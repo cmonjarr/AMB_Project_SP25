{
 "cells": [
  {
   "cell_type": "markdown",
   "metadata": {},
   "source": [
    "### **Data Dictionary**"
   ]
  },
  {
   "cell_type": "markdown",
   "metadata": {},
   "source": [
    "![cups](https://www.neurosciencemarketing.com/wp-content/uploads/2007/11/starbucks-vs-mcdonalds.jpg)"
   ]
  },
  {
   "cell_type": "markdown",
   "metadata": {},
   "source": [
    "\n",
    "\n",
    "\n",
    "|Column Name | Data Type |  Description | Examples       |\n",
    "|------------|-----------|--------------|---------------|\n",
    "|Beverage Info|\tIndex|\tThe name and description of the beverage item.|\tCaffè Latte|\n",
    "|Type | Object\t| The category or type of beverage|\tHot Coffee (Tall)|\n",
    "|Calories|\tInteger|\tTotal calorie content of the beverage\t|150 |\n",
    "|Calories from Fats|\tFloat |\tTotal calories derived from fats, calculated as Total Fat (g) * 9| 0|\n",
    "|Calories from Carbohydrates|\tInteger |\tTotal calories derived from carbohydrates, calculated as Carbohydrates (g) * 4| 140|\n",
    "|Calories from Fiber|\tInteger\t|Total calories derived from dietary fiber, calculated as Fiber (g) * 2| 16|\n",
    "|Calories from Sugars|\tInteger |\tTotal calories derived from sugars, calculated as Carbs (g) * 4| 56|\n",
    "|Calories from Protein|\tInteger|\tTotal calories derived from protein, calculated as Protein (g) * 4|\t20|\n",
    "|Total Fat (g)|\tFloat\t| Total fat content in grams |\t4.0|\n",
    "|Saturated Fat (g)|\tFloat\t|Saturated fat content in gram |2.0|\n",
    "|Trans Fat (g)|\tFloat\t|Trans fat content in grams|\t0.5|\n",
    "|Cholesterol (mg)|\tInteger\t|Cholesterol content in milligrams\t|15|\n",
    "|Sodium (mg)|\tInteger\t|Sodium content in milligrams\t|300|\n",
    "|Total Carbohydrates (g)|\tInteger|\tTotal carbohydrate content in grams | 35|\n",
    "|Dietary Fiber (g)\t|Integer|\tDietary fiber content in grams\t| 2 |\n",
    "|Sugars (g)\t|Integer|\tTotal sugar content in grams| 25|\n",
    "|Protein (g)|\tInteger|\tProtein content in grams| 8|\n",
    "\n",
    "Data Key:\n",
    "\n",
    "- **SBUX**: Represents items from Starbucks.\n",
    "\n",
    "- **MCD**: Represents items from McDonald's.\n",
    "\n",
    "Data Purpose:\n",
    "- This DataFrame is designed to compare and contrast the nutritional composition of beverages offered by the two restaurants."
   ]
  }
 ],
 "metadata": {
  "language_info": {
   "name": "python"
  }
 },
 "nbformat": 4,
 "nbformat_minor": 2
}
