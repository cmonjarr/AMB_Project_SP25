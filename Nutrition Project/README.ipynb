{
 "cells": [
  {
   "cell_type": "markdown",
   "metadata": {},
   "source": [
    "## **CODE LOUISVILLE Capstone Project - Spring 2025**\n",
    "### **Project Title**:"
   ]
  },
  {
   "cell_type": "markdown",
   "metadata": {},
   "source": [
    "### A comparison of nutrition information from two popular quick-service restaurants: *Starbucks* & *McDonald's* \n",
    "\n",
    "![SBUX v MCD](https://images.fastcompany.com/image/upload/imgs-fc-com/faceoff-mcd-starbucks.jpg)"
   ]
  },
  {
   "cell_type": "markdown",
   "metadata": {},
   "source": [
    "### **Table of Contents**"
   ]
  },
  {
   "cell_type": "markdown",
   "metadata": {},
   "source": [
    "\n",
    "- Description\n",
    "- Installation & Usage\n",
    "- Technologies\n",
    "- Contributiions\n",
    "- License\n",
    "- Contact"
   ]
  },
  {
   "cell_type": "markdown",
   "metadata": {},
   "source": [
    "### **Description**\n",
    "\n",
    "#### \n",
    "Does it feel like there’s a Starbucks or McDonald’s on every block? \n",
    "\n",
    "Despite becoming increasingly health conscious as a society,  quick-service restaurants can be challenging to avoid. \n",
    "\n",
    "This study assess nutrition  information from Starbucks & McDonald’s to evaluate macronutrients, their consistency or variability by restaurant, and patterns by beverage item/preparation.\n",
    "\n",
    "This project’s features include:\n",
    "- Creation of a jupyter notebook including annotations with markdown cells and clear code comments.\n",
    "- Use of pandas to load two datasets into a DataFrame.\n",
    "- Review and analysis of original datasets (eg data types, column/row contents).\n",
    "- Assessing for and addressing null/missing values.\n",
    "- Conversion of data to appropriate datatypes. \n",
    "- Merging original DataFrames into a new combined DataFrame.\n",
    "- Creating and modifying values for new DataFrame (e.g. “Calories by ‘X’ macronutrient”).\n",
    "- Feature engineering: creating new columns of nutrition info & combining descriptive columns.\n",
    "- EDA: using pandas, numpy, matplotlip, and seaborn for data manipulation/analysis and visualization (e.g. check stats, create graphs/charts).\n",
    "- Analysis Findings: reflecting on patterns and initial project goals\n",
    "- Conclusions & recommendations: developing impressions and next steps based on findings from data analysis and support with data visualization.\n"
   ]
  },
  {
   "cell_type": "markdown",
   "metadata": {},
   "source": [
    "### **Installation and Usage**\n",
    "\n",
    "##### Please install the following for use as needed: \n",
    "\n",
    "##### Github:\n",
    "- Login or sign up for a **GitHub** account\n",
    "##### Git\n",
    "- Open **Terminal** which will be utilized for multiple steps to follow\n",
    "\n",
    "##### Python \n",
    "- Check for installation by typing the following in your terminal: \n",
    "\n",
    "        “python —version” or “python3 —version”\n",
    "- If not installed, go to [Python website](https://www.python.org/downloads/) to download.\n",
    "\n",
    "##### Pip:\n",
    "- Check for installation by typing the following in your terminal: \n",
    "\n",
    "        “pip —version”\n",
    "- Please note that this is likely to have been installed with your Python installation.\n",
    "\n",
    "##### Downloadong Data from GitHub Repository\n",
    "- Fork & clone the project repository from [Github](https://github.com/thewellnesscurator/AMB_Project_SP25) by running the **“git close X”** command where X = hyperlink to project repository.\n",
    "- Navigate to project by running **“ls”** command to review a list of folder contents and running **“cd”** command or using VS code.\n",
    "- Navigate from **“AMB_Project_SP25”** folder to the **“Nutrition Project”** folder. In this folder, you will find the **Nutrition_2024.ipynb** Jupyter Notebook.\n",
    "\n",
    "##### Virtual Environments\n",
    "- Create a **virtual environment**\n",
    "- In *terminal*, run one of the following commands: \n",
    "\n",
    "        “python -m venv venv” \n",
    "        \n",
    "        “python3 -m venv venv” \n",
    "- This will create a virtual environment in a folder called **“venv”**.\n",
    "- Active the virtual environment by running the following command:  \n",
    "\n",
    "        For Mac users, “source venv/bin/activate”\n",
    "        \n",
    "        For PC users, \"venv\\Scripts\\activate\"\n",
    "- To verify virtual environment activation, you should see **(venv)** at the beginning of your terminal.\n",
    "- Benefits of a Virtual environment include:\n",
    "1. allows for a fresh start to each project\n",
    "2. helps to keep your projects isolated from one another\n",
    "3. ensures that one project's libraries won't interfere with another’s\n",
    "4. minimizes clutter \n",
    "5. improves organization and security for the project\n",
    "\n",
    "##### Data Libraries\n",
    "- This project requires the use of the following data libraries: **pandas, matplotlib, numpy, seaborn**. \n",
    "- Please find additional guidance re: installation, verification, and importation in the **“Installing Data Libraries\"** section of the **“Data Libraries, Collection, and Loading”** section of the Jupyter Notebook.\n"
   ]
  },
  {
   "cell_type": "markdown",
   "metadata": {},
   "source": [
    "### **Technologies**\n",
    "- Python\n",
    "- Pip\n",
    "- Jupyter Notebook\n",
    "- Virtul Environment\n",
    "- Pandas\n",
    "- Matplotlib\n",
    "- Numpy\n",
    "- Seaborn\n",
    "\n",
    "\n",
    "### **Contributions**\n",
    "Additional contributors are welcomed.\n",
    "\n",
    "To contribute, \n",
    "- Fork the [repository](https://github.com/thewellnesscurator/AMB_Project_SP25)\n",
    "- Create a branch for your feature\n",
    "- Submit a pull request when done \n",
    "\n",
    "\n",
    "### **License**\n",
    "This project is licensed under the Apache License 2.0.\n",
    "\n",
    "\n",
    "### **Acknowledgments**\n",
    "I would like to extend my *heartfelt thanks* and *sincere gratitude* to:\n",
    "- Code Louisville mentors, classmates, administrators, and funders for their instruction, mentorship, patience, and time throughout this educational journey.\n",
    "- The Open-Source Community for providing the libraries and tools that served as building blocks for this project.\n",
    "- The advent of AI, YouTube University, and Dr. Christian Drumm for “at your fingertips” tutoring.\n",
    "- My family for their unconditional support,  patience, and motivation.\n",
    "\n",
    "### **Contact Information**\n",
    "Connect with me on [LinkedIn](https://www.linkedin.com/in/evergreenlanes/)!\n"
   ]
  }
 ],
 "metadata": {
  "language_info": {
   "name": "python"
  }
 },
 "nbformat": 4,
 "nbformat_minor": 2
}
